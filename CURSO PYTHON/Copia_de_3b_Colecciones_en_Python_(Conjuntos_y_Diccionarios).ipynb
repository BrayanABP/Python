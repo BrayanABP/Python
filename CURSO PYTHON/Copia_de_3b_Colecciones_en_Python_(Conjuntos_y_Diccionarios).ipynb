{
  "nbformat": 4,
  "nbformat_minor": 0,
  "metadata": {
    "colab": {
      "provenance": []
    },
    "kernelspec": {
      "name": "python3",
      "display_name": "Python 3"
    },
    "language_info": {
      "name": "python"
    }
  },
  "cells": [
    {
      "cell_type": "markdown",
      "source": [
        "![M I S I Ó N.png](data:image/png;base64,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)"
      ],
      "metadata": {
        "id": "vw5APt_lsvl1"
      }
    },
    {
      "cell_type": "markdown",
      "source": [
        "# Conjuntos"
      ],
      "metadata": {
        "id": "2EhnrQKGcoOh"
      }
    },
    {
      "cell_type": "markdown",
      "source": [
        "## Generalidades\n",
        "Los conjuntos son colecciones **desordenadas** y que **no aceptan valores repetidos**.  Se crean con Llaves **{}** o llamando a la función **set**. Los conjuntos permiten cambiar su contenido pero dado que no poseen un orden, **no aceptan operaciones indexadas**.  Miremos:"
      ],
      "metadata": {
        "id": "Cwk9pyE8crGB"
      }
    },
    {
      "cell_type": "code",
      "source": [
        "mi_conjunto = {2,5,6,2,3,4,2}\n",
        "print (mi_conjunto) #Los valores repetidos no se toman en cuenta\n",
        "print (type(mi_conjunto))"
      ],
      "metadata": {
        "id": "vSnPmA7Mga1u"
      },
      "execution_count": null,
      "outputs": []
    },
    {
      "cell_type": "code",
      "source": [
        "mi_conjunto = set (range (1,9))\n",
        "print (mi_conjunto)"
      ],
      "metadata": {
        "id": "aUzyVQl-Rp9r"
      },
      "execution_count": null,
      "outputs": []
    },
    {
      "cell_type": "markdown",
      "source": [
        "En los conjuntos el orden de inserción no es necesariamente el orden de almacenamiento"
      ],
      "metadata": {
        "id": "wF-f6s7MnNGO"
      }
    },
    {
      "cell_type": "code",
      "source": [
        "mi_conjunto = {'P', 'H', 'A', 'Z'}\n",
        "print (mi_conjunto)"
      ],
      "metadata": {
        "id": "xKpIK_o1m4tt"
      },
      "execution_count": null,
      "outputs": []
    },
    {
      "cell_type": "markdown",
      "source": [
        "Para adicionar elementos al conjunto utilizamos el método **add()**"
      ],
      "metadata": {
        "id": "EJnCCw7CmWqH"
      }
    },
    {
      "cell_type": "code",
      "source": [
        "mi_conjunto = set (range (1,9))\n",
        "print (mi_conjunto)\n",
        "mi_conjunto.add(30)\n",
        "print (mi_conjunto)"
      ],
      "metadata": {
        "id": "bQuEWNi5mea9"
      },
      "execution_count": null,
      "outputs": []
    },
    {
      "cell_type": "code",
      "source": [
        "mi_conjunto = set()\n",
        "mi_conjunto.add(8)\n",
        "mi_conjunto.add(2)\n",
        "mi_conjunto.add(8)\n",
        "mi_conjunto.add(7)\n",
        "mi_conjunto.add(3)\n",
        "mi_conjunto.add(8)\n",
        "mi_conjunto.add(8)\n",
        "print (len(mi_conjunto))\n",
        "print (mi_conjunto)"
      ],
      "metadata": {
        "id": "izsdK8eUS3Sw"
      },
      "execution_count": null,
      "outputs": []
    },
    {
      "cell_type": "markdown",
      "source": [
        "Comprobamos si un elemento se encuentra o no dentro de un conjunto con la palabra reservada **in**"
      ],
      "metadata": {
        "id": "cph7fTFInzV9"
      }
    },
    {
      "cell_type": "code",
      "source": [
        "mi_conjunto = {3,4,6,8,2}\n",
        "print (mi_conjunto)\n",
        "num = int(input(\"Cual número desea saber si está en el conjunto:\"))\n",
        "print (f\"Está el nummero {num} en el conjunto {mi_conjunto}?: {num in mi_conjunto}\")"
      ],
      "metadata": {
        "id": "itGSK3_Vn_zP"
      },
      "execution_count": null,
      "outputs": []
    },
    {
      "cell_type": "markdown",
      "source": [
        "**Recorrido de conjuntos**"
      ],
      "metadata": {
        "id": "YgNVCGLXUetX"
      }
    },
    {
      "cell_type": "code",
      "source": [
        "mi_conjunto = {2,3,5,6,7,4,7}\n",
        "\n",
        "\n",
        "for valor in mi_conjunto:\n",
        "  print (valor)"
      ],
      "metadata": {
        "id": "2-ulHf63Ujai"
      },
      "execution_count": null,
      "outputs": []
    },
    {
      "cell_type": "markdown",
      "source": [
        "## Métodos en Conjuntos"
      ],
      "metadata": {
        "id": "T40UDyD-p_fd"
      }
    },
    {
      "cell_type": "markdown",
      "source": [
        "**discard()** quita un elemento del conjunto"
      ],
      "metadata": {
        "id": "rnCIphQnqI-V"
      }
    },
    {
      "cell_type": "code",
      "source": [
        "c = {2,5,7,9,3,1}\n",
        "c.discard (5)\n",
        "print(c)"
      ],
      "metadata": {
        "id": "pU7KNG27qZuN"
      },
      "execution_count": null,
      "outputs": []
    },
    {
      "cell_type": "markdown",
      "source": [
        "**isdisjoint()** Comprueba si el conjunto es disjunto de otro conjunto, es decir, si no hay ningún elemento en común entre ellos:"
      ],
      "metadata": {
        "id": "sSX_XYZDq1Al"
      }
    },
    {
      "cell_type": "code",
      "source": [
        "c1 = {2,5,7}\n",
        "c2 = {9,3,1}\n",
        "print (f\"c1 disjoint c2 = {c1.isdisjoint(c2)}\")\n",
        "c3 = {9,3,5}\n",
        "print (f\"c1 disjoint c3 = {c1.isdisjoint(c3)}\")"
      ],
      "metadata": {
        "id": "Nb16_0Hzq_3F"
      },
      "execution_count": null,
      "outputs": []
    },
    {
      "cell_type": "markdown",
      "source": [
        "**issubset()**  Comprueba si el conjunto es subconjunto de otro conjunto, es decir, si sus ítems se encuentran todos dentro de otro:"
      ],
      "metadata": {
        "id": "P-TUPUP5rrct"
      }
    },
    {
      "cell_type": "code",
      "source": [
        "c1 = {2,5,7}\n",
        "c2 = {2,5}\n",
        "print (f\"c2 issubset c1 = {c2.issubset(c1)}\")\n"
      ],
      "metadata": {
        "id": "Zyym9quMrwjT"
      },
      "execution_count": null,
      "outputs": []
    },
    {
      "cell_type": "markdown",
      "source": [
        "**issuperset()** Comprueba si el conjunto es contenedor de otro subconjunto, es decir, si contiene todos los ítems de otro:"
      ],
      "metadata": {
        "id": "WKha5G9NsQss"
      }
    },
    {
      "cell_type": "code",
      "source": [
        "c1 = {2,5,7}\n",
        "c2 = {2,5}\n",
        "print (f\"c1 issuperset c2 = {c1.issuperset(c2)}\")\n"
      ],
      "metadata": {
        "id": "lnBMujhdsV99"
      },
      "execution_count": null,
      "outputs": []
    },
    {
      "cell_type": "markdown",
      "source": [
        "**union()** Une un conjunto a otro y devuelve el resultado en un nuevo conjunto:"
      ],
      "metadata": {
        "id": "wnMGqmN8ts_k"
      }
    },
    {
      "cell_type": "code",
      "source": [
        "c1 = {2,5,7}\n",
        "c2 = {2,5,3}\n",
        "print (f\"c1 union c2 = {c1.union(c2)}\")"
      ],
      "metadata": {
        "id": "QwaqS1_Ktykk"
      },
      "execution_count": null,
      "outputs": []
    },
    {
      "cell_type": "markdown",
      "source": [
        "**difference()**  Encuentra los elementos no comunes entre dos conjuntos:"
      ],
      "metadata": {
        "id": "e0baX4Vft_9b"
      }
    },
    {
      "cell_type": "code",
      "source": [
        "c1 = {2,5,7}\n",
        "c2 = {2,5,3}\n",
        "print (f\"c1 difference c2 = {c1.difference(c2)}\")\n",
        "print (f\"c2 difference c1 = {c2.difference(c1)}\")"
      ],
      "metadata": {
        "id": "OKG6ms8auLVz"
      },
      "execution_count": null,
      "outputs": []
    },
    {
      "cell_type": "markdown",
      "source": [
        "**symmetric_difference()**\n",
        "Devuelve los elementos simétricamente diferentes entre dos conjuntos, es decir, todos los elementos que no concuerdan entre los dos conjuntos:"
      ],
      "metadata": {
        "id": "bEyqDsBmu567"
      }
    },
    {
      "cell_type": "code",
      "source": [
        "c1 = {2,5,7}\n",
        "c2 = {2,5,3}\n",
        "print (f\"c1 symmetric_difference c2 = {c1.symmetric_difference(c2)}\")"
      ],
      "metadata": {
        "id": "XVfvXQhnu-JT"
      },
      "execution_count": null,
      "outputs": []
    },
    {
      "cell_type": "markdown",
      "source": [
        "**intersection()**  Devuelve un conjunto con los elementos comunes en dos conjuntos:"
      ],
      "metadata": {
        "id": "h5QQ35YjungL"
      }
    },
    {
      "cell_type": "code",
      "source": [
        "c1 = {2,7,5}\n",
        "c2 = {2,5,3}\n",
        "print (f\"c1 intersection c2 = {c1.intersection(c2)}\")"
      ],
      "metadata": {
        "id": "PlgBqQqxusiD"
      },
      "execution_count": null,
      "outputs": []
    },
    {
      "cell_type": "markdown",
      "source": [
        "# Diccionarios"
      ],
      "metadata": {
        "id": "WpmW_tViZY_1"
      }
    },
    {
      "cell_type": "markdown",
      "source": [
        "## Generalidades\n",
        "\n",
        "Los diccionarios son un tipo de colección donde cada elemento almacenado contiene una estructura de tipo clave-valor.  En los diccionarios las claves deben ser únicas, pues es através de ellas que podemos acceder a los valores.  La definición al igual que los conjuntos es por medio de llaves **{}**\n",
        "\n"
      ],
      "metadata": {
        "id": "KVeWtD0baEwT"
      }
    },
    {
      "cell_type": "code",
      "source": [
        "diccionario = {\"tres\":\"three\",\"dos\":\"two\",\"cuatro\":\"four\",\"cinco\":\"five\"}\n",
        "print (type (diccionario))\n",
        "print (diccionario[\"tres\"])"
      ],
      "metadata": {
        "id": "ZU0OSMNOdElG"
      },
      "execution_count": null,
      "outputs": []
    },
    {
      "cell_type": "code",
      "source": [
        "dic = {\"llave1\":\"a\",2:[2,34,5],4:\"c\",5:8}\n",
        "print(type(dic))\n",
        "print(dic[\"llave1\"])\n",
        "print(dic[2][1])"
      ],
      "metadata": {
        "id": "mUUYA6jNoFuA"
      },
      "execution_count": null,
      "outputs": []
    },
    {
      "cell_type": "markdown",
      "source": [
        "## Acceso\n",
        "\n",
        "Para acceder a un valor determinado del diccionario ya no lo hacemos por su posición sino por su clave.  Las claves pueden ser de tipo numéricas o strings.  Si intentamos acceder a un elemento del diccionario a través de una clave que no existe obtendremos un error."
      ],
      "metadata": {
        "id": "Xb4l40JWdsN1"
      }
    },
    {
      "cell_type": "code",
      "source": [
        "capitales = {\"Manizales\": \"Caldas\", \"Pereira\": \"Risaralda\", \"Cali\": \"Valle\"}\n",
        "print (capitales)#mostrar todos los pares clave-valor\n",
        "print (f\"La capital de Manizales es {capitales['Manizales']}\")#acceso por clave\n",
        "\n",
        "#print (f\"La capital de Antioquia es {capitales['Medellin']}\")#error\n",
        "\n",
        "capitales[\"Armenia\"] = \"Quindio\" #agregar elemento al diccionario\n",
        "capitales[\"Cali\"] = \"Valle del Cauca\"\n",
        "print (capitales)"
      ],
      "metadata": {
        "id": "uceR103cavwk"
      },
      "execution_count": null,
      "outputs": []
    },
    {
      "cell_type": "markdown",
      "source": [
        "Los diccionarios son mutables, por lo tanto podemos cambiar los valores de sus elementos"
      ],
      "metadata": {
        "id": "Av6_3KMLca3U"
      }
    },
    {
      "cell_type": "code",
      "source": [
        "capitales = {\"Manizales\": \"Caldas\", \"Pereira\": \"Risaralda\", \"Cali\": \"Valle\"}\n",
        "capitales[\"Cali\"] = \"Valle del Cauca\"\n",
        "print (capitales)"
      ],
      "metadata": {
        "id": "3JU8-bGSct4z"
      },
      "execution_count": null,
      "outputs": []
    },
    {
      "cell_type": "markdown",
      "source": [
        "## Eliminación\n",
        "\n",
        "Usamos la función **del()** para borrar un elemento del diccionario"
      ],
      "metadata": {
        "id": "z4NUbwPJdy_i"
      }
    },
    {
      "cell_type": "code",
      "source": [
        "capitales = {\"Manizales\": \"Caldas\", \"Pereira\": \"Risaralda\", \"Cali\": None}\n",
        "#del(capitales [\"Cali\"]) #se elimina el elemento con la clave dada\n",
        "print (capitales)\n"
      ],
      "metadata": {
        "id": "0nlLFDcVeG6U"
      },
      "execution_count": null,
      "outputs": []
    },
    {
      "cell_type": "markdown",
      "source": [
        "Los valores en cada campo de un diccionario pueden ser de cualquier tipo e incluso de otro tipo de colección"
      ],
      "metadata": {
        "id": "lCnqoXFKfuea"
      }
    },
    {
      "cell_type": "code",
      "source": [
        "alumnos = {\"juan\": [23,\"calle 10\", 323], \"Luis\": [45, \"carrera 12\"]}\n",
        "print (alumnos[\"Luis\"][0])"
      ],
      "metadata": {
        "id": "U7K5I38WfHVj"
      },
      "execution_count": null,
      "outputs": []
    },
    {
      "cell_type": "code",
      "source": [
        "alumnos = {\"juan\": {\"edad\":23, \"direccion\":\"calle 80\",\"telefono\":\"320897\"}, \"Luis\": [45, \"carrera 12\"]}\n",
        "print (alumnos[\"juan\"][\"direccion\"])"
      ],
      "metadata": {
        "id": "4ooHn_Skg7u2"
      },
      "execution_count": null,
      "outputs": []
    },
    {
      "cell_type": "markdown",
      "source": [
        "## Recorrido de diccionarios"
      ],
      "metadata": {
        "id": "47FGsZZkgD3h"
      }
    },
    {
      "cell_type": "code",
      "source": [
        "edades = {'Hector':27,'Juan':45,'Maria':34}\n",
        "\n",
        "for x in edades:\n",
        "    print(x) #Acceso a las claves\n",
        "\n",
        "for clave in edades:\n",
        "    print(edades[clave]) #Acceso a los valores\n",
        "\n",
        "\n",
        "for clave in edades:\n",
        "    print(clave, edades[clave]) #Acceso a claves y los valores\n"
      ],
      "metadata": {
        "id": "lPbtsHe2gItZ"
      },
      "execution_count": null,
      "outputs": []
    },
    {
      "cell_type": "markdown",
      "source": [
        "El método **items()**  devuelve el par clave-valor en una misma variable"
      ],
      "metadata": {
        "id": "_ThGf-iLhXt0"
      }
    },
    {
      "cell_type": "code",
      "source": [
        "edades = {'Hector':27,'Juan':45,'Maria':34}\n",
        "for item in edades.items():\n",
        "    print(item) #obteniendo clave-valor en la misma variable\n",
        "\n",
        "for p, q in edades.items():\n",
        "    print(p,\" - \", q) #obteniendo clave y valor en diferentes variables"
      ],
      "metadata": {
        "id": "X-21f6LchhBb"
      },
      "execution_count": null,
      "outputs": []
    },
    {
      "cell_type": "code",
      "source": [
        "edades = {'Hector':27,'Juan':45,'Maria':34}\n",
        "for item in edades.keys():\n",
        "    print(item)"
      ],
      "metadata": {
        "id": "Vb0eRHjYiVQB"
      },
      "execution_count": null,
      "outputs": []
    },
    {
      "cell_type": "markdown",
      "source": [
        "# Apropiación"
      ],
      "metadata": {
        "id": "S1zvcQH3jpEB"
      }
    },
    {
      "cell_type": "markdown",
      "source": [
        "1. Leer una frase y devolver el conjunto de caracteres diferentes que se encuentran presentes en la frase leída."
      ],
      "metadata": {
        "id": "hastHcJCTuKO"
      }
    },
    {
      "cell_type": "code",
      "source": [],
      "metadata": {
        "id": "6qLAHIqJ7HQw"
      },
      "execution_count": null,
      "outputs": []
    },
    {
      "cell_type": "markdown",
      "source": [
        "2. En una escuela se permite la inscripción de sus alumnos a las siguientes actividades deportivas: futbol (f), baloncesto (b).\n",
        "Realice un programa que permita ingresar el nombre de sus estudiantes e inscribir a cada uno en uno o los dos deportes.\n",
        "\n",
        "La aplicación debe mostrar los siguientes listados:\n",
        "  * Estudiantes inscritos en fulbol\n",
        "  * Estudiantes inscritos en baloncesto\n",
        "  * Estudiantes inscritos en ambos deportes\n",
        "  * Todos los estudiantes inscritos en algún deporte\n",
        "  * Estudiantes inscritos en solo un deporte.\n",
        "\n"
      ],
      "metadata": {
        "id": "lf2PwtJvWVz9"
      }
    },
    {
      "cell_type": "code",
      "source": [],
      "metadata": {
        "id": "3s8atOBG6Z2s"
      },
      "execution_count": null,
      "outputs": []
    },
    {
      "cell_type": "markdown",
      "source": [
        "3. Realice un programa traductor de frutas del español al inglés.  Para ello, solicite el nombre de una fruta al usuario y muestre su traducción al inglés.  Si la fruta no se encuentra en el diccionario, permítale al usuario agregarla con su respectiva traducción.  El programa solo termina cuando el usuario ingresa una fruta que no está en el diccionario y no desea agregarla."
      ],
      "metadata": {
        "id": "VWFUSko6jrkA"
      }
    },
    {
      "cell_type": "code",
      "source": [],
      "metadata": {
        "id": "daCJ1Ao2hSQa"
      },
      "execution_count": null,
      "outputs": []
    },
    {
      "cell_type": "markdown",
      "source": [
        "4. Se requiere almacenar la siguiente información de los 5 estudiantes de un grupo:\n",
        "**id, nombre, edad, nota**\n",
        "\n",
        "Posteriormente:\n",
        "* (a) Mostrar toda la información de todos los estudiantes\n",
        "* (b) solicitar el id de un estudiante para mostrar su respectiva información.\n"
      ],
      "metadata": {
        "id": "8THzvfrMmeDo"
      }
    },
    {
      "cell_type": "code",
      "source": [],
      "metadata": {
        "id": "HiCcCvX-bePy"
      },
      "execution_count": null,
      "outputs": []
    }
  ]
}