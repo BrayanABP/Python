{
  "nbformat": 4,
  "nbformat_minor": 0,
  "metadata": {
    "colab": {
      "private_outputs": true,
      "provenance": []
    },
    "kernelspec": {
      "name": "python3",
      "display_name": "Python 3"
    },
    "language_info": {
      "name": "python"
    }
  },
  "cells": [
    {
      "cell_type": "markdown",
      "source": [
        "![M I S I Ó N.png](data:image/png;base64,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)"
      ],
      "metadata": {
        "id": "vw5APt_lsvl1"
      }
    },
    {
      "cell_type": "code",
      "source": [
        "n1 =5\n",
        "n2 =3\n",
        "n3=4.5\n",
        "n4=2.9\n",
        "if n1 > n2 and n1 >n3 and n1 > n4:\n",
        "  print (\"el mejor saco \", n1)\n"
      ],
      "metadata": {
        "id": "Ry3ZTtk3E2AI"
      },
      "execution_count": null,
      "outputs": []
    },
    {
      "cell_type": "code",
      "source": [
        "notas = [5,3,4.5,2.9]\n",
        "print (notas)\n",
        "notas.append(1)\n",
        "print (notas[1])\n",
        "print (max(notas))\n",
        "print (min(notas))\n",
        "print (sum(notas)/len(notas))\n",
        "\n",
        "\n",
        "notas.append(int(input(\"ingrese la nota\")))\n",
        "print(notas)\n",
        "\n"
      ],
      "metadata": {
        "id": "uW2ruwK9Fek0"
      },
      "execution_count": null,
      "outputs": []
    },
    {
      "cell_type": "markdown",
      "source": [
        "# Introducción\n",
        "Las colecciones nos permiten agrupar datos, objetos y otras estructuras bajo un mismo nombre.\n",
        "\n",
        "**¿Ventajas?**\n",
        "\n",
        "En Python existen cuatro colecciones básicas: Listas, Tuplas, Conjuntos y Diccionarios"
      ],
      "metadata": {
        "id": "cEuiOwYXEEhj"
      }
    },
    {
      "cell_type": "markdown",
      "source": [
        "# Listas\n",
        "Las listas son el tipo de colección en Python equivalente a los arreglos.  Colección ordenada de elementos accesibles a través de un índice"
      ],
      "metadata": {
        "id": "GxC4AneJEEkC"
      }
    },
    {
      "cell_type": "markdown",
      "source": [
        "## Creación y Acceso\n",
        "Las listas utilizan corchetes para la creación y acceso de sus elementos"
      ],
      "metadata": {
        "id": "GH1WtaTIHNU2"
      }
    },
    {
      "cell_type": "code",
      "source": [
        "lenguajes = [\"Python\", \"Java\", \"PHP\"]\n",
        "print (lenguajes)  #Imprime la lista completa\n",
        "print (lenguajes[0]) #Imprime el valor de la posición 0\n",
        "lenguajes [0] = \"Python 3\" #Da un nuevo valor al elemento de la posición 0\n",
        "print (lenguajes)\n"
      ],
      "metadata": {
        "id": "KRETkeAaHfxP"
      },
      "execution_count": null,
      "outputs": []
    },
    {
      "cell_type": "markdown",
      "source": [
        "¿Podrías indicar qué imprime el siguiente código?"
      ],
      "metadata": {
        "id": "O5feNDzhIPB1"
      }
    },
    {
      "cell_type": "code",
      "source": [
        "numeros = [3,4,6,2,6,8,4,9]\n",
        "res = numeros [-3] + numeros [5]\n",
        "print (res)"
      ],
      "metadata": {
        "id": "SaAJ67vaJDl5"
      },
      "execution_count": null,
      "outputs": []
    },
    {
      "cell_type": "markdown",
      "source": [
        "otra forma alternativa de crear listas es mediante la función **list** que recibe como argumento un objeto iterable"
      ],
      "metadata": {
        "id": "txcOSCzaxAmC"
      }
    },
    {
      "cell_type": "code",
      "source": [
        "mi_lista = list(\"1234567\")\n",
        "print (type(mi_lista))\n",
        "print (mi_lista)"
      ],
      "metadata": {
        "id": "xUYkCipIxOki"
      },
      "execution_count": null,
      "outputs": []
    },
    {
      "cell_type": "code",
      "source": [
        "mi_lista = list(range(1,11))\n",
        "print (type(mi_lista))\n",
        "print (mi_lista)\n",
        "print (mi_lista[3])"
      ],
      "metadata": {
        "id": "miw1dXHOIfrp"
      },
      "execution_count": null,
      "outputs": []
    },
    {
      "cell_type": "code",
      "source": [],
      "metadata": {
        "id": "XH47f6LwIjYZ"
      },
      "execution_count": null,
      "outputs": []
    },
    {
      "cell_type": "markdown",
      "source": [
        "Una lista en Python puede almacenar elementos de cualquier tipo de dato, incluso otras listas"
      ],
      "metadata": {
        "id": "NJzfNDOwxd95"
      }
    },
    {
      "cell_type": "code",
      "source": [
        "mi_lista = [2, 3.5, True, \"amigo\", [3, 8, \"a\"]]\n",
        "print (mi_lista)"
      ],
      "metadata": {
        "id": "ivEsMuG1xkMT"
      },
      "execution_count": null,
      "outputs": []
    },
    {
      "cell_type": "markdown",
      "source": [
        "¿De qué manera accederías al elemento con valor 6 en la siguiente lista?.  Completa el código de la línea 2"
      ],
      "metadata": {
        "id": "wGOD71_4ySKR"
      }
    },
    {
      "cell_type": "code",
      "source": [
        "mi_lista = [1, 2, 3, ['p', 'q', [5, 6, 7]]]\n",
        "print(mi_lista[3][2][1])\n",
        "print (mi_lista[-1][-1][-2])"
      ],
      "metadata": {
        "id": "fNID_nv9yAkp"
      },
      "execution_count": null,
      "outputs": []
    },
    {
      "cell_type": "markdown",
      "source": [
        "¿Acertaste? De esa manera podemos acceder a cualquier elemento de una lista.\n",
        "\n",
        "¿Recuerdas el concepto de **Slicing** que vimos con los datos tipo cadena?.  Pues también es aplicable a las listas.\n",
        "\n"
      ],
      "metadata": {
        "id": "5gEOgkinzRws"
      }
    },
    {
      "cell_type": "code",
      "source": [
        "mi_lista = list (range (1,10)) #[1,2,3,4,5,6,7,8,9]\n",
        "print (mi_lista)\n",
        "print (mi_lista [1:4])# [2,3,4]\n",
        "print (mi_lista [:2])# [1,2]\n",
        "print (mi_lista [7:])# [8,9]\n",
        "print (mi_lista [-5:-1])# [5,6,7,8]\n",
        "print (mi_lista [-3:]) #[7,8,9]"
      ],
      "metadata": {
        "id": "Hipn8kA-yf5h"
      },
      "execution_count": null,
      "outputs": []
    },
    {
      "cell_type": "markdown",
      "source": [
        "Como vamos viendo, las listas en Python son muy flexibles.  Aquí algunas otras operaciones nativas sobre las listas."
      ],
      "metadata": {
        "id": "kA1QSutQ2kJ5"
      }
    },
    {
      "cell_type": "code",
      "source": [
        "mi_lista = [1, 2, 3, 4, 5]\n",
        "mi_lista [0:3] = [\"a\", \"b\", \"c\"] # Asignación de varios valores\n",
        "print (mi_lista)"
      ],
      "metadata": {
        "id": "cgOrO8be20lY"
      },
      "execution_count": null,
      "outputs": []
    },
    {
      "cell_type": "code",
      "source": [
        "mi_lista = [1, 2, 3, 4, 5]\n",
        "mi_lista = mi_lista + [6] #Agregar un valor con el operador +\n",
        "print (mi_lista)\n",
        "mi_lista = mi_lista + [7, 8, 9] #Agregar varios valores\n",
        "print (mi_lista)"
      ],
      "metadata": {
        "id": "wMhObyzE4Eov"
      },
      "execution_count": null,
      "outputs": []
    },
    {
      "cell_type": "code",
      "source": [
        "mi_lista = [1, 2, 3]\n",
        "x, y, z = mi_lista #Asignar a varias variables el contenido de una lista\n",
        "print (f\"valor de x {x}\")\n",
        "print (f\"valor de y {y}\")\n",
        "print (f\"valor de z {z}\")"
      ],
      "metadata": {
        "id": "kNLyyeB943Eo"
      },
      "execution_count": null,
      "outputs": []
    },
    {
      "cell_type": "markdown",
      "source": [
        "## Eliminación  e Inserción\n",
        "Para eliminar un elemento de una lista utilizamos la palabra reservada del\n",
        "\n",
        "\n",
        "\n"
      ],
      "metadata": {
        "id": "-AUkdsBwKAYX"
      }
    },
    {
      "cell_type": "code",
      "source": [
        "lenguajes = [\"Python\", \"Java\", \"PHP\"]\n",
        "del lenguajes[1]\n",
        "print (lenguajes)"
      ],
      "metadata": {
        "id": "9ZGyDZeHKVOy"
      },
      "execution_count": null,
      "outputs": []
    },
    {
      "cell_type": "markdown",
      "source": [
        "Podemos insertar datos en una posición específica con la función **insert** o al final de la lista con **append**"
      ],
      "metadata": {
        "id": "WWm54yMJK1Fm"
      }
    },
    {
      "cell_type": "code",
      "source": [
        "lenguajes = [\"Python\", \"Java\", \"PHP\"]\n",
        "lenguajes.append (\"C++\")\n",
        "lenguajes.append (\"Ruby\")\n",
        "lenguajes.insert(2, \"Visual Basic\")\n",
        "print (lenguajes)\n",
        "\n",
        "lenguajes.insert(round(len(lenguajes)/2),\"Delphi\")\n",
        "print (lenguajes)"
      ],
      "metadata": {
        "id": "oZbWacCwLGvS"
      },
      "execution_count": null,
      "outputs": []
    },
    {
      "cell_type": "markdown",
      "source": [
        "Para saber si un elemento se encuentra dentro de una lista usamos la palabra reservada **in**"
      ],
      "metadata": {
        "id": "6MPulHGJf4oC"
      }
    },
    {
      "cell_type": "code",
      "source": [
        "lenguajes = [\"Python\", \"Java\", \"PHP\"]\n",
        "print (\"Python\" in lenguajes)\n",
        "print (\"C#\" in lenguajes)"
      ],
      "metadata": {
        "id": "zGORIdYogDAh"
      },
      "execution_count": null,
      "outputs": []
    },
    {
      "cell_type": "markdown",
      "source": [
        "## Recorrido de listas\n",
        "Dado que cada lista es un objeto iterable, las podemos recorrer con nuestro ciclo for\n",
        "\n",
        "\n",
        "\n",
        "```\n",
        "for variable in lista:\n",
        "```\n",
        "\n"
      ],
      "metadata": {
        "id": "AaYnIwhtKdQU"
      }
    },
    {
      "cell_type": "code",
      "source": [
        "numeros = [1, 2, \"papa\", 3, 4, 0]\n",
        "print(numeros)\n",
        "\n",
        "for x in numeros:\n",
        "  print (x, end= \",\")\n"
      ],
      "metadata": {
        "id": "YmmdQ5bps6Vl"
      },
      "execution_count": null,
      "outputs": []
    },
    {
      "cell_type": "code",
      "source": [
        "numeros = [1, 2, 3, 4, 5, \"papa\"]\n",
        "\n",
        "for x in numeros:\n",
        "  if type(x) is int:\n",
        "    if x % 2 == 0:\n",
        "      print (x)"
      ],
      "metadata": {
        "id": "bBNGvnlXKs_t"
      },
      "execution_count": null,
      "outputs": []
    },
    {
      "cell_type": "code",
      "source": [
        "lista =[]\n",
        "x = int(input(\"Ingrese la cantidad de datos a almacenar en la lista \"))\n",
        "for i in range(x):\n",
        "  lista.append(int(input(\"ingrese valor\")))\n",
        "\n",
        "print (\"La lista es \", lista)\n"
      ],
      "metadata": {
        "id": "Mdy9D7o2VExH"
      },
      "execution_count": null,
      "outputs": []
    },
    {
      "cell_type": "markdown",
      "source": [
        "También nos las podemos arreglar para recorrer una lista a través de sus índices como convencionalmente se hace en otros lenguajes.  Para ello, necesitamos usar la función **len** que nos devuelve la longitud de la lista."
      ],
      "metadata": {
        "id": "K3qEpb4bNT1M"
      }
    },
    {
      "cell_type": "code",
      "source": [
        "mi_lista = [4, 5, 6, 7]\n",
        "for i in range(0, len(mi_lista)):\n",
        "\t  print(mi_lista[i])"
      ],
      "metadata": {
        "id": "wYApk6k2Np9z"
      },
      "execution_count": null,
      "outputs": []
    },
    {
      "cell_type": "code",
      "source": [],
      "metadata": {
        "id": "TorCC9LpZpfB"
      },
      "execution_count": null,
      "outputs": []
    },
    {
      "cell_type": "markdown",
      "source": [
        "Python nos ofrece una forma alternativa de acceder al índice de cada elemento de una lista a través de la función **enumerate**"
      ],
      "metadata": {
        "id": "9NsPczwKOZ9L"
      }
    },
    {
      "cell_type": "code",
      "source": [
        "numeros = [3, 29, 34, 42, 54]\n",
        "for x in enumerate(numeros):\n",
        "  print (x)"
      ],
      "metadata": {
        "id": "RQe67pGxLPO1"
      },
      "execution_count": null,
      "outputs": []
    },
    {
      "cell_type": "markdown",
      "source": [
        "Debido a que la función enumerate devuelve para cada elemento de la lista un par (índice - valor), podemos obtener ambos al tiempo en la misma variable como en el ejemplo anterior o acceder a cada uno a través de variables diferentes.  Veamos:"
      ],
      "metadata": {
        "id": "Ki6_V-giOwB9"
      }
    },
    {
      "cell_type": "code",
      "source": [
        "numeros = [\"A\", \"B\", \"C\", \"D\", \"E\"]\n",
        "for a, b in enumerate(numeros):\n",
        "  print (f\"En el indice {a} encontramos el valor {b}\")\n"
      ],
      "metadata": {
        "id": "fcRhVPG1RP07"
      },
      "execution_count": null,
      "outputs": []
    },
    {
      "cell_type": "markdown",
      "source": [
        "Con lo visto hasta ahora, muéstranos cómo recorrerías una lista de la cual no conoces su longitud usando el ciclo while."
      ],
      "metadata": {
        "id": "9plIGi2RSW9e"
      }
    },
    {
      "cell_type": "code",
      "source": [
        "lista = [2,3,4,5,6,7,8]\n",
        "for x in lista:\n",
        "  print(x)\n"
      ],
      "metadata": {
        "id": "yAnrxSoESpC8"
      },
      "execution_count": null,
      "outputs": []
    },
    {
      "cell_type": "code",
      "source": [
        "lista = [2,3,4,5,6,7,8]\n",
        "total_elementos = len(lista)\n",
        "indice = 0\n",
        "while indice < total_elementos:\n",
        "  print(lista[indice])\n",
        "  indice += 1"
      ],
      "metadata": {
        "id": "d2NGQ3WtHF4u"
      },
      "execution_count": null,
      "outputs": []
    },
    {
      "cell_type": "markdown",
      "source": [
        "Se cuenta con dos listas y se desean recorrer de manera simultánea mostrando el valor de las dos en cada posición.  ¿Ayudarías a terminar el código de tal manera que se obtenga el siguiente resultado?\n",
        "\n",
        "\n",
        "```\n",
        "ma - pa\n",
        "me - pe\n",
        "mi - pi\n",
        "mo - po\n",
        "mu - pu\n",
        "```"
      ],
      "metadata": {
        "id": "GprLf6BwVboj"
      }
    },
    {
      "cell_type": "code",
      "source": [
        "lista_1 = [\"ma\", \"me\", \"mi\", \"mo\", \"mu\"]\n",
        "lista_2 = [\"pa\", \"pe\", \"pi\", \"po\", \"pu\"]\n",
        "\n",
        "#continua aquí\n",
        "for i in range(len(lista_1)): #[0,1,2,3,4]\n",
        "   print (lista_1[i], \"-\", lista_2[i])"
      ],
      "metadata": {
        "id": "m09ku3q4Vydc"
      },
      "execution_count": null,
      "outputs": []
    },
    {
      "cell_type": "code",
      "source": [
        "for x in range(5):\n",
        "  print (x)"
      ],
      "metadata": {
        "id": "xaaGU-3fZR_R"
      },
      "execution_count": null,
      "outputs": []
    },
    {
      "cell_type": "code",
      "source": [],
      "metadata": {
        "id": "p4zvfOZpuowl"
      },
      "execution_count": null,
      "outputs": []
    },
    {
      "cell_type": "markdown",
      "source": [
        "\n",
        "\n",
        "---\n",
        "\n",
        "\n",
        "Después de haberlo logrado, miremos otra alternativa para el recorrido de dos listas simultáneamente a través de la función **zip**"
      ],
      "metadata": {
        "id": "2t985EwzdXc7"
      }
    },
    {
      "cell_type": "code",
      "source": [
        "lista_1 = [\"ma\", \"me\", \"mi\", \"mo\", \"mu\", \"ja\"]\n",
        "lista_2 = [\"pa\", \"pe\", \"pi\", \"po\", \"pu\", \"jo\"]\n",
        "for x in zip (lista_1, lista_2):\n",
        "    print (x)"
      ],
      "metadata": {
        "id": "ru3CrSjce6Jp"
      },
      "execution_count": null,
      "outputs": []
    },
    {
      "cell_type": "markdown",
      "source": [
        "A la función **zip** le podemos pasar cualquier número de listas y tendrá la capacidad de generar un iterador que las recorra simultáneamente."
      ],
      "metadata": {
        "id": "Adctfu71e_BZ"
      }
    },
    {
      "cell_type": "code",
      "source": [
        "nombres = [\"maria\", \"luis\", \"carlos\", \"Juan\", \"Diego\"]\n",
        "edades = [34, 20, 14, 18, 20]\n",
        "notas = [4, 3.8, 2, 5]\n",
        "for x in zip (nombres, edades, notas):\n",
        "    print (x)"
      ],
      "metadata": {
        "id": "DZE99JjXdoq0"
      },
      "execution_count": null,
      "outputs": []
    },
    {
      "cell_type": "markdown",
      "source": [
        "## Métodos aplicables a las listas\n",
        "\n",
        "Existen diferentes métodos útiles a la hora de trabajar con listas.  Aquí algunas de ellas:"
      ],
      "metadata": {
        "id": "RhVGkLjPwKVS"
      }
    },
    {
      "cell_type": "markdown",
      "source": [
        "El método **sort()** ordena los elementos de una lista"
      ],
      "metadata": {
        "id": "lTyoUzxQhC25"
      }
    },
    {
      "cell_type": "code",
      "source": [
        "mi_lista = [5, 6, 3, 8, 1]\n",
        "#mi_lista = [\"s1\", \"a3\", \"p1\", \"b5\", \"x7\",\"a1\"]\n",
        "mi_lista.sort()  #ordena la lista\n",
        "print (mi_lista)"
      ],
      "metadata": {
        "id": "xY-1BOT4hNhK"
      },
      "execution_count": null,
      "outputs": []
    },
    {
      "cell_type": "markdown",
      "source": [
        "Podemos pasarle el argumento **reverse=True** al método **sort()** para que ordene inversamente"
      ],
      "metadata": {
        "id": "lVFiiueeP_F5"
      }
    },
    {
      "cell_type": "code",
      "source": [
        "mi_lista = [\"d\", \"a\", \"b\"]\n",
        "mi_lista.sort(reverse=True)  #ordena la lista\n",
        "print (mi_lista)"
      ],
      "metadata": {
        "id": "dsIszimLQUFA"
      },
      "execution_count": null,
      "outputs": []
    },
    {
      "cell_type": "markdown",
      "source": [
        "El método **remove()** recibe como argumento un objeto y lo borra de la lista"
      ],
      "metadata": {
        "id": "KwKrAT_hjOxy"
      }
    },
    {
      "cell_type": "code",
      "source": [
        "lenguajes = [\"Python\", \"Javax\", \"PHP\", \"Java\"]\n",
        "if \"Javax\" in lenguajes:\n",
        "  lenguajes.remove(\"Javax\")\n",
        "print (lenguajes)"
      ],
      "metadata": {
        "id": "NzulJ0Fiji8h"
      },
      "execution_count": null,
      "outputs": []
    },
    {
      "cell_type": "markdown",
      "source": [
        "Nota que la diferencia entre **remove()** y **del** es que al primero le puedo enviar el valor que deseo remover mientras que el segundo **del** trabaja con los índices"
      ],
      "metadata": {
        "id": "RRlLTCMQju_h"
      }
    },
    {
      "cell_type": "code",
      "source": [
        "lenguajes = [\"Python\", \"Java\", \"PHP\"]\n",
        "del lenguajes [1]\n",
        "print (lenguajes)"
      ],
      "metadata": {
        "id": "BZ25aReMkLoQ"
      },
      "execution_count": null,
      "outputs": []
    },
    {
      "cell_type": "markdown",
      "source": [
        "El método **reverse()** invierte el contenido de la lista"
      ],
      "metadata": {
        "id": "fuVKm3BWOqGI"
      }
    },
    {
      "cell_type": "code",
      "source": [
        "lenguajes = [\"Python\", \"Java\", \"PHP\"]\n",
        "lenguajes.reverse()\n",
        "print (lenguajes)"
      ],
      "metadata": {
        "id": "eo9WVMTNO0f4"
      },
      "execution_count": null,
      "outputs": []
    },
    {
      "cell_type": "markdown",
      "source": [
        "Las cadenas no tienen el método .reverse() pero podemos simularlo haciendo unas conversiones entre listas y cadenas:\n",
        "\n"
      ],
      "metadata": {
        "id": "QbORA-0uPMpP"
      }
    },
    {
      "cell_type": "code",
      "source": [
        "cadena = \"Hola mundo\"\n",
        "lista = list(cadena)\n",
        "print (lista)\n",
        "\n",
        "lista.reverse()\n",
        "print (lista)\n",
        "cadena = \"\".join(lista)\n",
        "print (cadena)\n"
      ],
      "metadata": {
        "id": "MggJ4mJRPRa_"
      },
      "execution_count": null,
      "outputs": []
    },
    {
      "cell_type": "markdown",
      "source": [
        "**Otros métodos o funciones aplicables sobre listas**"
      ],
      "metadata": {
        "id": "k8MIBbqmkZzB"
      }
    },
    {
      "cell_type": "markdown",
      "source": [
        "\n",
        "```\n",
        "clear()\n",
        "Vacía todos los ítems de una lista:\n",
        "lista.clear()\n",
        "[]\n",
        "\n",
        "extend()\n",
        "Une una lista a otra:\n",
        "l1 = [1,2,3]\n",
        "l2 = [4,5,6]\n",
        "l1.extend(l2)\n",
        "[1, 2, 3, 4, 5, 6]\n",
        "\n",
        "count()\n",
        "Cuenta el número de veces que aparece un ítem:\n",
        "[\"Hola\", \"mundo\", \"mundo\"].count(\"Hola\")\n",
        "1\n",
        "\n",
        "index()\n",
        "Devuelve el índice en el que aparece un ítem (error si no aparece):\n",
        "[\"Hola\", \"mundo\", \"mundo\"].index(\"mundo\")\n",
        "1\n",
        "\n",
        "pop()\n",
        "Extrae un ítem de la lista y lo borra:\n",
        "l = [10,20,30,40,50]\n",
        "print(l.pop())\n",
        "50\n",
        "[10, 20, 30, 40]\n",
        "\n",
        "```\n",
        "\n"
      ],
      "metadata": {
        "id": "-jx3mZEoM2bQ"
      }
    },
    {
      "cell_type": "code",
      "source": [
        "print([\"Hola\", \"mundo\", \"mundo\"].count(\"mundo\"))"
      ],
      "metadata": {
        "id": "Fl1kms8cdcxy"
      },
      "execution_count": null,
      "outputs": []
    },
    {
      "cell_type": "code",
      "source": [
        "l = [10,20,30,40,50]\n",
        "print(l.pop(2))\n",
        "print(l)"
      ],
      "metadata": {
        "id": "JqVBus-AdxcC"
      },
      "execution_count": null,
      "outputs": []
    },
    {
      "cell_type": "markdown",
      "source": [
        "Eliminando todas las ocurrencias de un número en una lista"
      ],
      "metadata": {
        "id": "jjnpgLNStqOt"
      }
    },
    {
      "cell_type": "code",
      "source": [
        "l = [30,20,30,40,50,30,20,30]\n",
        "\n",
        "\n",
        "for x in range(l.count(30)):\n",
        "  l.remove(30)\n",
        "print(l)"
      ],
      "metadata": {
        "id": "CcyvwK7yUEbt"
      },
      "execution_count": null,
      "outputs": []
    },
    {
      "cell_type": "code",
      "source": [
        "l = [30,20,30,40,50,30,20,30]\n",
        "while 30 in l:\n",
        "  l.remove(30)\n",
        "\n",
        "print(l)\n"
      ],
      "metadata": {
        "id": "mrL6Karznkx8"
      },
      "execution_count": null,
      "outputs": []
    },
    {
      "cell_type": "markdown",
      "source": [
        "# Tuplas\n",
        "\n"
      ],
      "metadata": {
        "id": "3LvAFsIZOfqT"
      }
    },
    {
      "cell_type": "markdown",
      "source": [
        "## Generalidades\n",
        "Las Tuplas son similares a las listas pero con la característica de ser inmutables, es decir, sus valores no pueden cambiar.  Las Tuplas se crean con paréntesis **()** en lugar de corchetes **[]**  pero al igual que las listas, se accede a sus posiciones con corchetes **[]**  Veamos:"
      ],
      "metadata": {
        "id": "_gbU5KnUXHI6"
      }
    },
    {
      "cell_type": "code",
      "source": [
        "mi_tupla = (2,3,4,5,6,9)\n",
        "print (type(mi_tupla))\n",
        "\n",
        "print (mi_tupla)\n",
        "print (mi_tupla[1])\n",
        "print (mi_tupla[1:3])\n",
        "print (mi_tupla[:])\n"
      ],
      "metadata": {
        "id": "8OIYoPwcPRCa"
      },
      "execution_count": null,
      "outputs": []
    },
    {
      "cell_type": "markdown",
      "source": [
        "Intenta cambiar el contenido de la posición 1 en la siguiente tupla por el valor de \"f\":"
      ],
      "metadata": {
        "id": "U-LrOEjPP5TK"
      }
    },
    {
      "cell_type": "code",
      "source": [
        "mi_tupla = (\"a\",\"b\",\"c\",\"d\")\n",
        "print (type(mi_tupla))\n",
        "mi_tupla[1] = \"f\"\n",
        "print (mi_tupla[1])\n",
        "print(mi_tupla)\n"
      ],
      "metadata": {
        "id": "1d6QX9M2P_Ei"
      },
      "execution_count": null,
      "outputs": []
    },
    {
      "cell_type": "markdown",
      "source": [
        "Como puedes ver, el contenido de una **tupla es inmutable**\n",
        "\n",
        "**¿Qué ventaja tiene entonces una Tupla sobre una Lista?**"
      ],
      "metadata": {
        "id": "BnIxsoCLQTDi"
      }
    },
    {
      "cell_type": "markdown",
      "source": [
        "Las Tuplas al igual que las Listas pueden almacenar diferentes tipos de elementos y pueden conformarse por otras listas o tuplas internas.  El acceso a sus elementos funciona igual que con las listas."
      ],
      "metadata": {
        "id": "iA0DEa9kRq-P"
      }
    },
    {
      "cell_type": "code",
      "source": [
        "mi_tupla = (100, 'Hola', [1, 2, 3], -50)\n",
        "print (mi_tupla[2][-1]) #accediendo al número 3\n",
        "mi_tupla = (100, 'Hola', (1, (200, 'D', [\"x\",\"y\",\"z\"])), (1, 2, 3), -50)\n",
        "print (mi_tupla [2][1][2][1]) #accediendo a la letra \"y\""
      ],
      "metadata": {
        "id": "iMwNL2RTR8l8"
      },
      "execution_count": null,
      "outputs": []
    },
    {
      "cell_type": "code",
      "source": [],
      "metadata": {
        "id": "CPdwivHLqpRs"
      },
      "execution_count": null,
      "outputs": []
    },
    {
      "cell_type": "markdown",
      "source": [
        "Las Tuplas comparten varios métodos de las listas, sin embargo, por ser inmutables, las Tuplas no usan ningún método en cuyo resultado sea un cambio de contenido.  Ejemplo append(), insert(), remove(), sort(), reverse(), etc."
      ],
      "metadata": {
        "id": "SVKTOAmPUheb"
      }
    },
    {
      "cell_type": "code",
      "source": [
        "mi_tupla = (1,2,5,2,6,9,3,2,78,45,3,2,0)\n",
        "print (mi_tupla.count (2)) #funciona.  No cambia el contenido de la tupla"
      ],
      "metadata": {
        "id": "aB6gIg8aTs6z"
      },
      "execution_count": null,
      "outputs": []
    },
    {
      "cell_type": "code",
      "source": [
        "mi_tupla = (1,2,5,2,6,9,3,2,78,45,3,2,0)\n",
        "mi_tupla.sort() #No funciona.  Cambia el contenido de la tupla\n",
        "print(mi_tupla)"
      ],
      "metadata": {
        "id": "kewlI1SRVclr"
      },
      "execution_count": null,
      "outputs": []
    },
    {
      "cell_type": "markdown",
      "source": [
        "Las tuplas también las podemos crear a partir de la función **tuple** que recibe un objeto iterable"
      ],
      "metadata": {
        "id": "lxdiRmMEWsIL"
      }
    },
    {
      "cell_type": "code",
      "source": [
        "mi_tupla = 'amo a mi mama'\n",
        "print (mi_tupla)"
      ],
      "metadata": {
        "id": "7CNUDgKjTMCS"
      },
      "execution_count": null,
      "outputs": []
    },
    {
      "cell_type": "code",
      "source": [
        "x =(2,3,4,5,6,2,3,7,9)\n",
        "print (x.count(2))"
      ],
      "metadata": {
        "id": "qbcC2IhOANBv"
      },
      "execution_count": null,
      "outputs": []
    },
    {
      "cell_type": "markdown",
      "source": [
        "Por lo demás, podemos resumir diciendo que las listas y las tuplas son semejantes, con la diferencia que las segundas no pueden cambiar su contenido."
      ],
      "metadata": {
        "id": "XQlOBYc1Yf9T"
      }
    },
    {
      "cell_type": "markdown",
      "source": [
        "## Paso de Tupla a Lista y Lista a Tupla\n",
        "Las funciones **list** y **tuple** son las que nos permiten realizar este tipo de conversiones.  miremos"
      ],
      "metadata": {
        "id": "HF2kqu_rZEsx"
      }
    },
    {
      "cell_type": "markdown",
      "source": [
        "**Paso de Lista a Tupla**"
      ],
      "metadata": {
        "id": "YvpaPveyZg5I"
      }
    },
    {
      "cell_type": "code",
      "source": [
        "mi_lista = [1,2,3,4,5]\n",
        "print (f\"{mi_lista} es de tipo {type(mi_lista)}\")\n",
        "mi_tupla = tuple (mi_lista)\n",
        "print (f\"{mi_tupla} es de tipo {type(mi_tupla)}\")\n"
      ],
      "metadata": {
        "id": "JmrlAZFRZkKI"
      },
      "execution_count": null,
      "outputs": []
    },
    {
      "cell_type": "markdown",
      "source": [
        "**Paso de Tupla a Lista**"
      ],
      "metadata": {
        "id": "neNSiurnaGiI"
      }
    },
    {
      "cell_type": "code",
      "source": [
        "mi_tupla = (1,2,3,4,5)\n",
        "print (f\"{mi_tupla} es de tipo {type(mi_tupla)}\")\n",
        "mi_lista = list (mi_tupla)\n",
        "print (f\"{mi_lista} es de tipo {type(mi_lista)}\")"
      ],
      "metadata": {
        "id": "0uZS7zMiaMdw"
      },
      "execution_count": null,
      "outputs": []
    },
    {
      "cell_type": "code",
      "source": [
        "mi_tupla = (3,8,5,1,9)\n",
        "mi_lista = list (mi_tupla)\n",
        "mi_lista.sort()\n",
        "mi_tupla = tuple (mi_lista)\n",
        "print (mi_tupla)"
      ],
      "metadata": {
        "id": "g6IjfFxRQcSC"
      },
      "execution_count": null,
      "outputs": []
    },
    {
      "cell_type": "code",
      "source": [
        "t1 = (input(\"ingrese numero:\"),input(\"ingrese numero:\"),input(\"ingrese numero:\"))\n",
        "print (t1)\n"
      ],
      "metadata": {
        "id": "ePC14QkcsT_t"
      },
      "execution_count": null,
      "outputs": []
    },
    {
      "cell_type": "markdown",
      "source": [
        "# Apropiación"
      ],
      "metadata": {
        "id": "AyhBW3VYhe1g"
      }
    },
    {
      "cell_type": "markdown",
      "source": [
        "1. Pregunte al usuario cuántos elementos desea ingresar en una lista, luego solicite cada uno de ellos y presente el contenido de la lista y su contenido invertido."
      ],
      "metadata": {
        "id": "-hASHdigSodq"
      }
    },
    {
      "cell_type": "code",
      "source": [
        "listado=[]\n",
        "\n",
        "numero=int(input(\"Ingrese cuantos elementos desea tener en la lista\"))\n",
        "\n",
        "for x in range(numero):\n",
        "  listado.append(input(\"ingrese el primer elemento a la lista:\"))\n",
        "print(listado)\n",
        "listado.reverse()\n",
        "print(listado[1])\n",
        "\n"
      ],
      "metadata": {
        "id": "Ee8vEFAZgEhu"
      },
      "execution_count": null,
      "outputs": []
    },
    {
      "cell_type": "code",
      "source": [],
      "metadata": {
        "id": "6fcdA4wEHpcM"
      },
      "execution_count": null,
      "outputs": []
    },
    {
      "cell_type": "markdown",
      "source": [
        "02. Solicite al usuario dos frases y devuelva una lista con todas las letras que se repiten en la misma posición de ambas frases\n",
        "\n",
        "f1: hola mundo\n",
        "f2: como estas\n",
        "\n",
        "r=[\"o\"]"
      ],
      "metadata": {
        "id": "o2u9DifrUB3v"
      }
    },
    {
      "cell_type": "code",
      "source": [
        "f1 = input (\"Ingrese la frase 1:\")\n",
        "f2 = input (\"Ingrese la frase 2:\")\n",
        "lista_final = []\n",
        "\n",
        "longitud_frase_corta = min (len(f1), len(f2))\n",
        "for indice in range (longitud_frase_corta):\n",
        "  if f1[indice] == f2 [indice]:\n",
        "      lista_final.append(f1[indice])\n",
        "\n",
        "print (lista_final)"
      ],
      "metadata": {
        "id": "XsAomQUsC3Za"
      },
      "execution_count": null,
      "outputs": []
    },
    {
      "cell_type": "markdown",
      "source": [
        "3. Cree una aplicación que presente un menú con las siguientes opciones:\n",
        "\n",
        "\n",
        "```\n",
        "Aplicaciones con Listas\n",
        "\n",
        "1. Ingresar lista nueva\n",
        "2. Ordenar lista\n",
        "3. Promedio lista\n",
        "4. Buscar elemento\n",
        "5. Salir\n",
        "```\n",
        "\n",
        "**Ingresar lista** solicita los elementos de una lista, terminando con el ingreso de un número negativo el cual no formará parte de la lista\n",
        "\n",
        "**Ordenar lista** Presenta los valores de la lista ordenados.\n",
        "\n",
        "**Promedio lista** Muestra el promedio de los valores de la lista\n",
        "\n",
        "**Buscar elemento** solicita un número a buscar en la lista e indica si se encuentra en ella y cuántas veces aparece.\n",
        "\n",
        "**Salir** Termina la ejecución del programa\n"
      ],
      "metadata": {
        "id": "57MOa7cTUIN-"
      }
    },
    {
      "cell_type": "code",
      "source": [
        "lista = []\n",
        "\n",
        "salir = 1\n",
        "\n",
        "numeros_repetidos = 0\n",
        "\n",
        "while salir != 5:\n",
        "\n",
        "  print(\"Aplicaciones Con Listas\\n\")\n",
        "\n",
        "  print(\"1. Ingresar Lista Nueva\")\n",
        "\n",
        "  print(\"2. Ordenar Lista\")\n",
        "\n",
        "  print(\"3. Promedio Lista\")\n",
        "\n",
        "  print(\"4. Buscar Elemento\")\n",
        "\n",
        "  print(\"5. Salir\")\n",
        "\n",
        "  opcion = int(input(\"Escoja Una Opción: \"))\n",
        "\n",
        "  if opcion < 1 or opcion > 5:\n",
        "\n",
        "    print(\"Debe Ingresar Un Número Entero Entre 1 y 5\")\n",
        "\n",
        "  elif opcion == 1:\n",
        "\n",
        "    m = 1\n",
        "\n",
        "    while m==1:+\n",
        "\n",
        "      lista.append(int((input(\"ingrese un elemento númerico: \"))))\n",
        "\n",
        "      x = len(lista)\n",
        "\n",
        "      indice = x - 1\n",
        "\n",
        "      if lista[indice] < 0:\n",
        "\n",
        "        del(lista[indice])\n",
        "\n",
        "        m = 2\n",
        "\n",
        "    print(\"La Lista Ingresada Es: \", lista, \"\\n\")\n",
        "\n",
        "  elif opcion == 2:\n",
        "\n",
        "    lista.sort()  #ordena la lista\n",
        "\n",
        "    print(\"La Lista Ordena Queda: \",lista, \"\\n\")\n",
        "\n",
        "  elif opcion == 3:\n",
        "\n",
        "    print(\"El Promedio De Los Valores De La Lista Es: \", sum(lista)/len(lista), \"\\n\")\n",
        "\n",
        "  elif opcion == 4:\n",
        "\n",
        "    buscar = int(input(\"Ingrese Un Número Que Quiera Buscar En La Lista: \"))\n",
        "    cantidad_veces = lista.count(buscar)\n",
        "    if cantidad_veces > 0:\n",
        "      print (\"si está y está \", cantidad_veces)\n",
        "    #for i in range(len(lista)):\n",
        "\n",
        "     # if lista[i] == buscar:\n",
        "\n",
        "      #  numeros_repetidos += 1\n",
        "\n",
        "    #if numeros_repetidos > 0:\n",
        "\n",
        "     #   print(\"El Número Si Está En La Lista\")\n",
        "\n",
        "      #  print(\"El Número Se Repite: \", numeros_repetidos, \"Veces\\n\")\n",
        "\n",
        "      #  numeros_repetidos = 0\n",
        "\n",
        "    else:\n",
        "\n",
        "      print(\"El Número No Está En La Lista\\n\")\n",
        "\n",
        "  elif opcion == 5:\n",
        "\n",
        "    salir = 5\n",
        "\n"
      ],
      "metadata": {
        "id": "gqlQ-ca0Gx_l"
      },
      "execution_count": null,
      "outputs": []
    },
    {
      "cell_type": "markdown",
      "source": [
        "4. Leer una frase y almacenar en una tupla la frase leída pero sin espacios.  Mostrar el contenido de la tupla."
      ],
      "metadata": {
        "id": "_oDncwIBhkJ-"
      }
    },
    {
      "cell_type": "code",
      "source": [
        "frase = input(\"Ingrese una frase: \")\n",
        "\n",
        "tupla_sin_espacios = tuple(frase.split())\n",
        "\n",
        "print(\"Frase original:\", frase)\n",
        "\n",
        "print(\"Tupla sin espacios:\", tupla_sin_espacios)\n"
      ],
      "metadata": {
        "id": "z8KoAaTlJFDw"
      },
      "execution_count": null,
      "outputs": []
    },
    {
      "cell_type": "code",
      "source": [
        "frase = input(\"Digite una frase: \").strip()\n",
        "\n",
        "frase = frase.replace(\" \", \"\")\n",
        "\n",
        "frase = tuple(frase)\n",
        "\n",
        "print(frase)"
      ],
      "metadata": {
        "id": "O10ZAGGAMO0D"
      },
      "execution_count": null,
      "outputs": []
    }
  ]
}